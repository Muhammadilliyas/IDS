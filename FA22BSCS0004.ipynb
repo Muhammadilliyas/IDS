{
 "cells": [
  {
   "cell_type": "markdown",
   "id": "4deca361",
   "metadata": {},
   "source": [
    "# Data Science Basics\n"
   ]
  },
  {
   "cell_type": "markdown",
   "id": "8584f8dd",
   "metadata": {},
   "source": [
    "## Introduction\n",
    "This notebook introduces basic concepts and tools used in Data Science. It includes examples, calculations, and lists of popular languages and libraries.\n"
   ]
  },
  {
   "cell_type": "markdown",
   "id": "6e6f4877",
   "metadata": {},
   "source": [
    "## Data Science Languages\n",
    "- Python\n",
    "- R\n",
    "- SQL\n",
    "- Julia\n",
    "- Scala\n"
   ]
  },
  {
   "cell_type": "markdown",
   "id": "dd13d16f",
   "metadata": {},
   "source": [
    "## Data Science Libraries\n",
    "- NumPy\n",
    "- Pandas\n",
    "- Matplotlib\n",
    "- Scikit-learn\n",
    "- TensorFlow\n",
    "- sklearn"
   ]
  },
  {
   "cell_type": "markdown",
   "id": "bf166aab",
   "metadata": {},
   "source": [
    "## Table of Data Science Tools\n",
    "\n",
    "| Tool           | Purpose                  |\n",
    "|----------------|--------------------------|\n",
    "| Jupyter        | Interactive notebooks    |\n",
    "| GitHub         | Version control          |\n",
    "| Tableau        | Data visualization       |\n",
    "| Power BI       | Business intelligence    |\n",
    "| VS Code        | Code editor              |\n"
   ]
  },
  {
   "cell_type": "markdown",
   "id": "8dec5e9b",
   "metadata": {},
   "source": [
    "## Arithmetic Expressions\n",
    "This section shows basic arithmetic expressions in Python:\n",
    "- Addition: `2 + 3`\n",
    "- Multiplication: `4 * 5`\n"
   ]
  },
  {
   "cell_type": "markdown",
   "id": "8f8ffcdc",
   "metadata": {},
   "source": [
    "## Arithmetic Expressions\n",
    "This section shows basic arithmetic expressions in Python:\n",
    "- Addition: `2 + 3`\n",
    "- Multiplication: `4 * 5`\n"
   ]
  },
  {
   "cell_type": "markdown",
   "id": "3373704f",
   "metadata": {},
   "source": [
    "### Addition and Multiplication\n",
    "\n"
   ]
  },
  {
   "cell_type": "code",
   "execution_count": 3,
   "id": "e1fdb598",
   "metadata": {},
   "outputs": [
    {
     "name": "stdout",
     "output_type": "stream",
     "text": [
      "Addition: 65\n",
      "Multiplication: 1408\n"
     ]
    }
   ],
   "source": [
    "a = 32 + 33\n",
    "b = 44 * 32\n",
    "print(\"Addition:\", a)\n",
    "print(\"Multiplication:\", b)"
   ]
  },
  {
   "cell_type": "markdown",
   "id": "345ccbf6",
   "metadata": {},
   "source": [
    "# Convert minutes to hours\n",
    "\n"
   ]
  },
  {
   "cell_type": "code",
   "execution_count": 2,
   "id": "e558ae6f",
   "metadata": {},
   "outputs": [
    {
     "name": "stdout",
     "output_type": "stream",
     "text": [
      "Hours: 2.1666666666666665\n"
     ]
    }
   ],
   "source": [
    "minutes = 130\n",
    "hours = minutes / 60\n",
    "print(\"Hours:\", hours)"
   ]
  },
  {
   "cell_type": "markdown",
   "id": "4051bc6b",
   "metadata": {},
   "source": [
    "## Objectives\n",
    "- Understand data science languages and libraries\n",
    "- Practice markdown formatting\n",
    "- Use arithmetic in Python\n",
    "- Convert time units\n"
   ]
  },
  {
   "cell_type": "markdown",
   "id": "dc1396af",
   "metadata": {},
   "source": [
    "**Author:** Muhammad Illyas Soomro\n"
   ]
  },
  {
   "cell_type": "markdown",
   "id": "4c02fb6b",
   "metadata": {},
   "source": []
  }
 ],
 "metadata": {
  "kernelspec": {
   "display_name": "base",
   "language": "python",
   "name": "python3"
  },
  "language_info": {
   "codemirror_mode": {
    "name": "ipython",
    "version": 3
   },
   "file_extension": ".py",
   "mimetype": "text/x-python",
   "name": "python",
   "nbconvert_exporter": "python",
   "pygments_lexer": "ipython3",
   "version": "3.12.7"
  }
 },
 "nbformat": 4,
 "nbformat_minor": 5
}
